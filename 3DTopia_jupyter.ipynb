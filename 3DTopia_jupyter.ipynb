{
  "cells": [
    {
      "cell_type": "markdown",
      "metadata": {
        "id": "view-in-github"
      },
      "source": [
        "[![Open In Colab](https://colab.research.google.com/assets/colab-badge.svg)](https://colab.research.google.com/github/camenduru/3DTopia-jupyter/blob/main/3DTopia_jupyter.ipynb)"
      ]
    },
    {
      "cell_type": "code",
      "execution_count": null,
      "metadata": {
        "id": "VjYy0F2gZIPR"
      },
      "outputs": [],
      "source": [
        "%cd /content\n",
        "!git clone -b dev https://github.com/camenduru/3DTopia\n",
        "%cd /content/3DTopia\n",
        "\n",
        "!apt -y install -qq aria2\n",
        "!aria2c --console-log-level=error -c -x 16 -s 16 -k 1M https://huggingface.co/hongfz16/3DTopia/resolve/main/3dtopia_diffusion_state_dict.ckpt -d /content/3DTopia/checkpoints -o 3dtopia_diffusion_state_dict.ckpt\n",
        "\n",
        "!pip install -q pymcubes trimesh pytorch_lightning omegaconf einops wandb git+https://github.com/openai/CLIP kornia open-clip-torch\n",
        "!pip install -q https://github.com/camenduru/wheels/releases/download/colab/tinycudann-1.7-cp310-cp310-linux_x86_64.whl\n",
        "!pip install -q https://github.com/camenduru/wheels/releases/download/colab/nvdiffrast-0.3.1-py3-none-any.whl\n",
        "!pip install -q threefiner"
      ]
    },
    {
      "cell_type": "code",
      "execution_count": null,
      "metadata": {},
      "outputs": [],
      "source": [
        "# stage 1 - step 1\n",
        "!python -u sample_stage1.py --text \"a robot\" --samples 1 --seed 0 --steps 1000"
      ]
    },
    {
      "cell_type": "code",
      "execution_count": null,
      "metadata": {},
      "outputs": [],
      "source": [
        "# stage 2 - step 1\n",
        "!threefiner sd --mesh results/default/stage1/a_robot_0_0.ply --prompt \"a robot\" --text_dir --front_dir='-y' --outdir results/default/stage2/ --save a_robot_1_0_sd.glb --force_cuda_rast"
      ]
    },
    {
      "cell_type": "code",
      "execution_count": null,
      "metadata": {},
      "outputs": [],
      "source": [
        "# stage 2 - step 2\n",
        "threefiner if2 --mesh results/default/stage2/a_robot_1_0_sd.glb --prompt \"a robot\" --outdir results/default/stage2/ --save a_robot_1_0_if2.glb --force_cuda_rast"
      ]
    }
  ],
  "metadata": {
    "accelerator": "GPU",
    "colab": {
      "gpuType": "T4",
      "provenance": []
    },
    "kernelspec": {
      "display_name": "Python 3",
      "name": "python3"
    },
    "language_info": {
      "name": "python"
    }
  },
  "nbformat": 4,
  "nbformat_minor": 0
}
