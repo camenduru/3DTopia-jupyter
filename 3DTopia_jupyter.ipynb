{
  "cells": [
    {
      "cell_type": "markdown",
      "metadata": {
        "id": "view-in-github"
      },
      "source": [
        "[![Open In Colab](https://colab.research.google.com/assets/colab-badge.svg)](https://colab.research.google.com/github/camenduru/3DTopia-jupyter/blob/main/3DTopia_jupyter.ipynb)"
      ]
    },
    {
      "cell_type": "code",
      "execution_count": null,
      "metadata": {
        "id": "VjYy0F2gZIPR"
      },
      "outputs": [],
      "source": [
        "%cd /content\n",
        "!git clone -b dev https://github.com/camenduru/3DTopia\n",
        "%cd /content/3DTopia\n",
        "\n",
        "!apt -y install -qq aria2\n",
        "!aria2c --console-log-level=error -c -x 16 -s 16 -k 1M https://huggingface.co/hongfz16/3DTopia/resolve/main/3dtopia_diffusion_state_dict.ckpt -d /content/3DTopia/checkpoints -o 3dtopia_diffusion_state_dict.ckpt\n",
        "\n",
        "!pip install -q pymcubes trimesh pytorch_lightning omegaconf einops wandb git+https://github.com/openai/CLIP\n",
        "!pip install -q kornia open-clip-torch"
      ]
    },
    {
      "cell_type": "code",
      "execution_count": null,
      "metadata": {},
      "outputs": [],
      "source": [
        "!python -u sample_stage1.py --text \"a robot\" --samples 1 --seed 0"
      ]
    }
  ],
  "metadata": {
    "accelerator": "GPU",
    "colab": {
      "gpuType": "T4",
      "provenance": []
    },
    "kernelspec": {
      "display_name": "Python 3",
      "name": "python3"
    },
    "language_info": {
      "name": "python"
    }
  },
  "nbformat": 4,
  "nbformat_minor": 0
}
